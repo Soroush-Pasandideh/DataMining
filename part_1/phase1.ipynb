{
 "cells": [
  {
   "cell_type": "markdown",
   "source": [
    "## Imports"
   ],
   "metadata": {
    "collapsed": false
   }
  },
  {
   "cell_type": "code",
   "execution_count": 49,
   "metadata": {
    "collapsed": true
   },
   "outputs": [],
   "source": [
    "import numpy as np\n",
    "import pandas as pd\n",
    "import re"
   ]
  },
  {
   "cell_type": "markdown",
   "source": [
    "## Get the data"
   ],
   "metadata": {
    "collapsed": false
   }
  },
  {
   "cell_type": "code",
   "execution_count": 50,
   "outputs": [],
   "source": [
    "df = pd.read_csv('GooglePlay.csv')"
   ],
   "metadata": {
    "collapsed": false
   }
  },
  {
   "cell_type": "markdown",
   "source": [
    "## prepare numerical data"
   ],
   "metadata": {
    "collapsed": false
   }
  },
  {
   "cell_type": "code",
   "execution_count": 51,
   "outputs": [],
   "source": [
    "# get numerical columns\n",
    "columns = df.columns\n",
    "numerical_columns = {\"Rating\": df['Rating'],\n",
    "                     \"Reviews\": df['Reviews'],\n",
    "                     \"Size\": df['Size'],\n",
    "                     \"Installs\": df['Installs'],\n",
    "                     \"Price\": df['Price']}\n",
    "# we will extract the numbers and store the cleaned data in the dict below\n",
    "cleaned_numerical_columns = {}\n",
    "# drop missing data = NoN rows\n",
    "for col in numerical_columns.keys():\n",
    "    numerical_columns[col].dropna(inplace=True)"
   ],
   "metadata": {
    "collapsed": false
   }
  },
  {
   "cell_type": "markdown",
   "source": [
    "## check what is the structure of data in each column"
   ],
   "metadata": {
    "collapsed": false
   }
  },
  {
   "cell_type": "code",
   "execution_count": 52,
   "outputs": [
    {
     "name": "stdout",
     "output_type": "stream",
     "text": [
      "column <Rating>, data without digits: ['.']\n",
      "column <Reviews>, data without digits: ['']\n",
      "column <Size>, data without digits: ['.M' '.k' 'M' 'Varies with device' 'k']\n",
      "column <Installs>, data without digits: ['' '+' ',+' ',,+' ',,,+']\n",
      "column <Price>, data without digits: ['' '$. ']\n"
     ]
    }
   ],
   "source": [
    "for col_name in numerical_columns.keys():\n",
    "    data_without_digits = np.array([])\n",
    "    for data in numerical_columns[col_name]:\n",
    "        data_without_digits = np.append(data_without_digits, re.sub(r'\\d+', '', str(data)))\n",
    "\n",
    "    # save each structure once\n",
    "    data_without_digits = np.unique(data_without_digits)\n",
    "    print(f\"column <{col_name}>, extera characters:\", data_without_digits, end='\\n')"
   ],
   "metadata": {
    "collapsed": false
   }
  },
  {
   "cell_type": "markdown",
   "source": [
    "## Add 'Rating' and 'Review' columns in cleaned_numerical_columns, because they're already clean"
   ],
   "metadata": {
    "collapsed": false
   }
  },
  {
   "cell_type": "code",
   "execution_count": 53,
   "outputs": [],
   "source": [
    "cleaned_numerical_columns['Rating'] = numerical_columns['Rating']\n",
    "cleaned_numerical_columns['Reviews'] = numerical_columns['Reviews']"
   ],
   "metadata": {
    "collapsed": false
   }
  },
  {
   "cell_type": "markdown",
   "source": [
    "## 'Size' column: Remove not numerical data"
   ],
   "metadata": {
    "collapsed": false
   }
  },
  {
   "cell_type": "code",
   "execution_count": 54,
   "outputs": [],
   "source": [
    "pattern = r'^\\d+(\\.\\d+)?[Mk]$'\n",
    "for index, data in enumerate(numerical_columns['Size']):\n",
    "    if not (re.match(pattern, data)):\n",
    "        numerical_columns['Size'].drop(index, inplace=True)"
   ],
   "metadata": {
    "collapsed": false
   }
  },
  {
   "cell_type": "markdown",
   "source": [],
   "metadata": {
    "collapsed": false
   }
  },
  {
   "cell_type": "markdown",
   "source": [
    "## 'Size' column: Extract numbers from combined data"
   ],
   "metadata": {
    "collapsed": false
   }
  },
  {
   "cell_type": "code",
   "execution_count": 55,
   "outputs": [],
   "source": [
    "def convert_to_integer(data):\n",
    "    if data.endswith('M'):\n",
    "        return int(float(data[:-1]) * 1e6)  # Convert M to millions\n",
    "    elif data.endswith('k'):\n",
    "        return int(float(data[:-1]) * 1e3)  # Convert k to thousands\n",
    "    else:\n",
    "        return int(data)\n",
    "\n",
    "\n",
    "# convert combined data into integer\n",
    "cleaned_numerical_columns['Size'] = numerical_columns['Size'].apply(convert_to_integer)"
   ],
   "metadata": {
    "collapsed": false
   }
  },
  {
   "cell_type": "markdown",
   "source": [
    "## 'Installs' column: remove extra characters like ',' and '+'"
   ],
   "metadata": {
    "collapsed": false
   }
  },
  {
   "cell_type": "code",
   "execution_count": 56,
   "outputs": [],
   "source": [
    "cleaned_numerical_columns['Installs'] = numerical_columns['Installs'].apply(lambda x: ''.join(filter(str.isdigit, x)))"
   ],
   "metadata": {
    "collapsed": false
   }
  },
  {
   "cell_type": "code",
   "execution_count": 60,
   "outputs": [],
   "source": [
    "cleaned_numerical_columns['Price'] = numerical_columns['Price'].apply(lambda x: x.replace('$', ''))"
   ],
   "metadata": {
    "collapsed": false
   }
  },
  {
   "cell_type": "markdown",
   "source": [
    "## 'Price' column: remove $"
   ],
   "metadata": {
    "collapsed": false
   }
  }
 ],
 "metadata": {
  "kernelspec": {
   "display_name": "Python 3",
   "language": "python",
   "name": "python3"
  },
  "language_info": {
   "codemirror_mode": {
    "name": "ipython",
    "version": 2
   },
   "file_extension": ".py",
   "mimetype": "text/x-python",
   "name": "python",
   "nbconvert_exporter": "python",
   "pygments_lexer": "ipython2",
   "version": "2.7.6"
  }
 },
 "nbformat": 4,
 "nbformat_minor": 0
}
