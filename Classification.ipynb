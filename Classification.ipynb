{
 "cells": [
  {
   "cell_type": "markdown",
   "source": [
    "## Imports"
   ],
   "metadata": {
    "collapsed": false
   }
  },
  {
   "cell_type": "code",
   "execution_count": 3,
   "outputs": [],
   "source": [
    "import pandas as pd\n",
    "from sklearn.preprocessing import LabelEncoder, OneHotEncoder"
   ],
   "metadata": {
    "collapsed": false
   }
  },
  {
   "cell_type": "code",
   "execution_count": 4,
   "outputs": [],
   "source": [
    "df = pd.read_csv('combined_df.csv')"
   ],
   "metadata": {
    "collapsed": false
   }
  },
  {
   "cell_type": "code",
   "execution_count": 5,
   "outputs": [],
   "source": [
    "df_relevant = df[['Type', 'Genres', 'Category', 'Normal_Rating_Count', 'Normal_Rating','Normal_Reviews', 'Normal_Size', 'Normal_Installs', 'Normal_Price', 'Normal_Revenue', 'Normal_popularity']]"
   ],
   "metadata": {
    "collapsed": false
   }
  },
  {
   "cell_type": "code",
   "execution_count": null,
   "metadata": {
    "collapsed": true
   },
   "outputs": [],
   "source": [
    "# Label Encoding for ordinal data\n",
    "label_encoder = LabelEncoder()\n",
    "dataset['Content Rating'] = label_encoder.fit_transform(dataset['Content Rating'])\n",
    "\n",
    "# One-Hot Encoding for nominal data\n",
    "onehot_encoder = OneHotEncoder(sparse=False)\n",
    "encoded_genres = onehot_encoder.fit_transform(dataset[['Genres']])\n",
    "encoded_genres_df = pd.DataFrame(encoded_genres, columns=onehot_encoder.get_feature_names_out(['Genres']))\n",
    "dataset = pd.concat([dataset, encoded_genres_df], axis=1).drop(['Genres'], axis=1)\n",
    "\n",
    "# Example using pandas get_dummies for nominal data\n",
    "dataset = pd.get_dummies(dataset, columns=['Category'], drop_first=True)\n"
   ]
  }
 ],
 "metadata": {
  "kernelspec": {
   "display_name": "Python 3",
   "language": "python",
   "name": "python3"
  },
  "language_info": {
   "codemirror_mode": {
    "name": "ipython",
    "version": 2
   },
   "file_extension": ".py",
   "mimetype": "text/x-python",
   "name": "python",
   "nbconvert_exporter": "python",
   "pygments_lexer": "ipython2",
   "version": "2.7.6"
  }
 },
 "nbformat": 4,
 "nbformat_minor": 0
}
