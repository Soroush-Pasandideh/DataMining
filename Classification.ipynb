{
 "cells": [
  {
   "cell_type": "markdown",
   "source": [
    "## Imports"
   ],
   "metadata": {
    "collapsed": false
   }
  },
  {
   "cell_type": "code",
   "execution_count": 60,
   "outputs": [],
   "source": [
    "import pandas as pd\n",
    "from sklearn.preprocessing import LabelEncoder, OneHotEncoder"
   ],
   "metadata": {
    "collapsed": false
   }
  },
  {
   "cell_type": "code",
   "execution_count": 61,
   "outputs": [],
   "source": [
    "df = pd.read_csv('combined_df.csv')"
   ],
   "metadata": {
    "collapsed": false
   }
  },
  {
   "cell_type": "code",
   "execution_count": 62,
   "outputs": [],
   "source": [
    "df_relevant = df[['Type', 'Genres', 'Category', 'Content Rating', 'Normal_Rating_Count', 'Normal_Rating','Normal_Reviews', 'Normal_Size', 'Normal_Installs', 'Normal_Price', 'Normal_Revenue', 'Normal_popularity']]"
   ],
   "metadata": {
    "collapsed": false
   }
  },
  {
   "cell_type": "markdown",
   "source": [
    "## Label Encoding for ordinal categorical data"
   ],
   "metadata": {
    "collapsed": false
   }
  },
  {
   "cell_type": "code",
   "execution_count": 63,
   "outputs": [
    {
     "name": "stderr",
     "output_type": "stream",
     "text": [
      "C:\\Users\\ewint\\AppData\\Local\\Temp\\ipykernel_7092\\2696931585.py:2: SettingWithCopyWarning: \n",
      "A value is trying to be set on a copy of a slice from a DataFrame.\n",
      "Try using .loc[row_indexer,col_indexer] = value instead\n",
      "\n",
      "See the caveats in the documentation: https://pandas.pydata.org/pandas-docs/stable/user_guide/indexing.html#returning-a-view-versus-a-copy\n",
      "  df_relevant['Content Rating'] = label_encoder.fit_transform(df_relevant['Content Rating'])\n"
     ]
    }
   ],
   "source": [
    "label_encoder = LabelEncoder()\n",
    "df_relevant['Content Rating'] = label_encoder.fit_transform(df_relevant['Content Rating'])"
   ],
   "metadata": {
    "collapsed": false
   }
  },
  {
   "cell_type": "markdown",
   "source": [
    "## One-Hot Encoding for nominal categorical data"
   ],
   "metadata": {
    "collapsed": false
   }
  },
  {
   "cell_type": "code",
   "execution_count": 64,
   "metadata": {
    "collapsed": true
   },
   "outputs": [],
   "source": [
    "# onehot_encoder = OneHotEncoder(sparse=False)\n",
    "#\n",
    "# encoded_genres = onehot_encoder.fit_transform(df_relevant[['Genres']])\n",
    "# encoded_genres_df = pd.DataFrame(encoded_genres, columns=onehot_encoder.get_feature_names_out(['Genres']))\n",
    "# df_relevant = pd.concat([df_relevant, encoded_genres_df], axis=1).drop(['Genres'], axis=1)\n",
    "#\n",
    "# encoded_genres = onehot_encoder.fit_transform(df_relevant[['Category']])\n",
    "# encoded_genres_df = pd.DataFrame(encoded_genres, columns=onehot_encoder.get_feature_names_out(['Category']))\n",
    "# df_relevant = pd.concat([df_relevant, encoded_genres_df], axis=1).drop(['Category'], axis=1)\n",
    "# df_relevant"
   ]
  },
  {
   "cell_type": "code",
   "execution_count": 65,
   "outputs": [
    {
     "data": {
      "text/plain": "      Type  Content Rating  Normal_Rating_Count  Normal_Rating   \n0        0               0         8.000000e-06           0.69  \\\n1        0               0         6.693000e-04           0.81   \n2        0               3         1.197000e-04           0.87   \n3        0               3         8.000000e-07           0.83   \n4        0               3         3.617000e-04           0.83   \n...    ...             ...                  ...            ...   \n6245     0               3         4.170000e-05           0.80   \n6246     0               3         5.510000e-05           0.80   \n6247     0               0         7.600000e-06           0.84   \n6248     0               2         6.634000e-04           0.79   \n6249     0               0         8.000000e-07           0.90   \n\n      Normal_Reviews   Normal_Size  Normal_Installs  Normal_Price   \n0       5.500000e-06  5.500000e-06         0.000020           0.0  \\\n1       6.956000e-04  6.956000e-04         0.002000           0.0   \n2       1.706000e-04  1.706000e-04         0.000200           0.0   \n3       3.951000e-04  3.951000e-04         0.000002           0.0   \n4       5.733000e-04  5.733000e-04         0.002000           0.0   \n...              ...           ...              ...           ...   \n6245    6.050000e-05  6.050000e-05         0.000020           0.0   \n6246    7.180000e-05  7.180000e-05         0.000200           0.0   \n6247    9.800000e-06  9.800000e-06         0.000100           0.0   \n6248    1.059400e-03  1.059400e-03         0.001000           0.0   \n6249    7.000000e-07  7.000000e-07         0.000002           0.0   \n\n      Normal_Revenue  Normal_popularity  ...  Category_Simulation   \n0                0.0           0.000000  ...                    0  \\\n1                0.0           0.000001  ...                    0   \n2                0.0           0.000000  ...                    0   \n3                0.0           0.000000  ...                    0   \n4                0.0           0.000001  ...                    0   \n...              ...                ...  ...                  ...   \n6245             0.0           0.000000  ...                    0   \n6246             0.0           0.000000  ...                    0   \n6247             0.0           0.000000  ...                    0   \n6248             0.0           0.000001  ...                    0   \n6249             0.0           0.000000  ...                    0   \n\n      Category_Social  Category_Sports  Category_Strategy  Category_Tools   \n0                   0                0                  0               0  \\\n1                   0                0                  0               0   \n2                   0                0                  0               0   \n3                   0                0                  0               0   \n4                   0                0                  0               0   \n...               ...              ...                ...             ...   \n6245                0                0                  0               0   \n6246                0                0                  0               0   \n6247                0                0                  0               1   \n6248                1                0                  0               0   \n6249                0                0                  0               0   \n\n      Category_Travel & Local  Category_Trivia   \n0                           0                0  \\\n1                           0                0   \n2                           0                0   \n3                           0                0   \n4                           0                0   \n...                       ...              ...   \n6245                        0                0   \n6246                        0                0   \n6247                        0                0   \n6248                        0                0   \n6249                        0                0   \n\n      Category_Video Players & Editors  Category_Weather  Category_Word  \n0                                    0                 0              0  \n1                                    0                 0              0  \n2                                    0                 0              0  \n3                                    0                 0              0  \n4                                    0                 0              0  \n...                                ...               ...            ...  \n6245                                 0                 0              0  \n6246                                 0                 0              0  \n6247                                 0                 0              0  \n6248                                 0                 0              0  \n6249                                 0                 0              0  \n\n[6250 rows x 158 columns]",
      "text/html": "<div>\n<style scoped>\n    .dataframe tbody tr th:only-of-type {\n        vertical-align: middle;\n    }\n\n    .dataframe tbody tr th {\n        vertical-align: top;\n    }\n\n    .dataframe thead th {\n        text-align: right;\n    }\n</style>\n<table border=\"1\" class=\"dataframe\">\n  <thead>\n    <tr style=\"text-align: right;\">\n      <th></th>\n      <th>Type</th>\n      <th>Content Rating</th>\n      <th>Normal_Rating_Count</th>\n      <th>Normal_Rating</th>\n      <th>Normal_Reviews</th>\n      <th>Normal_Size</th>\n      <th>Normal_Installs</th>\n      <th>Normal_Price</th>\n      <th>Normal_Revenue</th>\n      <th>Normal_popularity</th>\n      <th>...</th>\n      <th>Category_Simulation</th>\n      <th>Category_Social</th>\n      <th>Category_Sports</th>\n      <th>Category_Strategy</th>\n      <th>Category_Tools</th>\n      <th>Category_Travel &amp; Local</th>\n      <th>Category_Trivia</th>\n      <th>Category_Video Players &amp; Editors</th>\n      <th>Category_Weather</th>\n      <th>Category_Word</th>\n    </tr>\n  </thead>\n  <tbody>\n    <tr>\n      <th>0</th>\n      <td>0</td>\n      <td>0</td>\n      <td>8.000000e-06</td>\n      <td>0.69</td>\n      <td>5.500000e-06</td>\n      <td>5.500000e-06</td>\n      <td>0.000020</td>\n      <td>0.0</td>\n      <td>0.0</td>\n      <td>0.000000</td>\n      <td>...</td>\n      <td>0</td>\n      <td>0</td>\n      <td>0</td>\n      <td>0</td>\n      <td>0</td>\n      <td>0</td>\n      <td>0</td>\n      <td>0</td>\n      <td>0</td>\n      <td>0</td>\n    </tr>\n    <tr>\n      <th>1</th>\n      <td>0</td>\n      <td>0</td>\n      <td>6.693000e-04</td>\n      <td>0.81</td>\n      <td>6.956000e-04</td>\n      <td>6.956000e-04</td>\n      <td>0.002000</td>\n      <td>0.0</td>\n      <td>0.0</td>\n      <td>0.000001</td>\n      <td>...</td>\n      <td>0</td>\n      <td>0</td>\n      <td>0</td>\n      <td>0</td>\n      <td>0</td>\n      <td>0</td>\n      <td>0</td>\n      <td>0</td>\n      <td>0</td>\n      <td>0</td>\n    </tr>\n    <tr>\n      <th>2</th>\n      <td>0</td>\n      <td>3</td>\n      <td>1.197000e-04</td>\n      <td>0.87</td>\n      <td>1.706000e-04</td>\n      <td>1.706000e-04</td>\n      <td>0.000200</td>\n      <td>0.0</td>\n      <td>0.0</td>\n      <td>0.000000</td>\n      <td>...</td>\n      <td>0</td>\n      <td>0</td>\n      <td>0</td>\n      <td>0</td>\n      <td>0</td>\n      <td>0</td>\n      <td>0</td>\n      <td>0</td>\n      <td>0</td>\n      <td>0</td>\n    </tr>\n    <tr>\n      <th>3</th>\n      <td>0</td>\n      <td>3</td>\n      <td>8.000000e-07</td>\n      <td>0.83</td>\n      <td>3.951000e-04</td>\n      <td>3.951000e-04</td>\n      <td>0.000002</td>\n      <td>0.0</td>\n      <td>0.0</td>\n      <td>0.000000</td>\n      <td>...</td>\n      <td>0</td>\n      <td>0</td>\n      <td>0</td>\n      <td>0</td>\n      <td>0</td>\n      <td>0</td>\n      <td>0</td>\n      <td>0</td>\n      <td>0</td>\n      <td>0</td>\n    </tr>\n    <tr>\n      <th>4</th>\n      <td>0</td>\n      <td>3</td>\n      <td>3.617000e-04</td>\n      <td>0.83</td>\n      <td>5.733000e-04</td>\n      <td>5.733000e-04</td>\n      <td>0.002000</td>\n      <td>0.0</td>\n      <td>0.0</td>\n      <td>0.000001</td>\n      <td>...</td>\n      <td>0</td>\n      <td>0</td>\n      <td>0</td>\n      <td>0</td>\n      <td>0</td>\n      <td>0</td>\n      <td>0</td>\n      <td>0</td>\n      <td>0</td>\n      <td>0</td>\n    </tr>\n    <tr>\n      <th>...</th>\n      <td>...</td>\n      <td>...</td>\n      <td>...</td>\n      <td>...</td>\n      <td>...</td>\n      <td>...</td>\n      <td>...</td>\n      <td>...</td>\n      <td>...</td>\n      <td>...</td>\n      <td>...</td>\n      <td>...</td>\n      <td>...</td>\n      <td>...</td>\n      <td>...</td>\n      <td>...</td>\n      <td>...</td>\n      <td>...</td>\n      <td>...</td>\n      <td>...</td>\n      <td>...</td>\n    </tr>\n    <tr>\n      <th>6245</th>\n      <td>0</td>\n      <td>3</td>\n      <td>4.170000e-05</td>\n      <td>0.80</td>\n      <td>6.050000e-05</td>\n      <td>6.050000e-05</td>\n      <td>0.000020</td>\n      <td>0.0</td>\n      <td>0.0</td>\n      <td>0.000000</td>\n      <td>...</td>\n      <td>0</td>\n      <td>0</td>\n      <td>0</td>\n      <td>0</td>\n      <td>0</td>\n      <td>0</td>\n      <td>0</td>\n      <td>0</td>\n      <td>0</td>\n      <td>0</td>\n    </tr>\n    <tr>\n      <th>6246</th>\n      <td>0</td>\n      <td>3</td>\n      <td>5.510000e-05</td>\n      <td>0.80</td>\n      <td>7.180000e-05</td>\n      <td>7.180000e-05</td>\n      <td>0.000200</td>\n      <td>0.0</td>\n      <td>0.0</td>\n      <td>0.000000</td>\n      <td>...</td>\n      <td>0</td>\n      <td>0</td>\n      <td>0</td>\n      <td>0</td>\n      <td>0</td>\n      <td>0</td>\n      <td>0</td>\n      <td>0</td>\n      <td>0</td>\n      <td>0</td>\n    </tr>\n    <tr>\n      <th>6247</th>\n      <td>0</td>\n      <td>0</td>\n      <td>7.600000e-06</td>\n      <td>0.84</td>\n      <td>9.800000e-06</td>\n      <td>9.800000e-06</td>\n      <td>0.000100</td>\n      <td>0.0</td>\n      <td>0.0</td>\n      <td>0.000000</td>\n      <td>...</td>\n      <td>0</td>\n      <td>0</td>\n      <td>0</td>\n      <td>0</td>\n      <td>1</td>\n      <td>0</td>\n      <td>0</td>\n      <td>0</td>\n      <td>0</td>\n      <td>0</td>\n    </tr>\n    <tr>\n      <th>6248</th>\n      <td>0</td>\n      <td>2</td>\n      <td>6.634000e-04</td>\n      <td>0.79</td>\n      <td>1.059400e-03</td>\n      <td>1.059400e-03</td>\n      <td>0.001000</td>\n      <td>0.0</td>\n      <td>0.0</td>\n      <td>0.000001</td>\n      <td>...</td>\n      <td>0</td>\n      <td>1</td>\n      <td>0</td>\n      <td>0</td>\n      <td>0</td>\n      <td>0</td>\n      <td>0</td>\n      <td>0</td>\n      <td>0</td>\n      <td>0</td>\n    </tr>\n    <tr>\n      <th>6249</th>\n      <td>0</td>\n      <td>0</td>\n      <td>8.000000e-07</td>\n      <td>0.90</td>\n      <td>7.000000e-07</td>\n      <td>7.000000e-07</td>\n      <td>0.000002</td>\n      <td>0.0</td>\n      <td>0.0</td>\n      <td>0.000000</td>\n      <td>...</td>\n      <td>0</td>\n      <td>0</td>\n      <td>0</td>\n      <td>0</td>\n      <td>0</td>\n      <td>0</td>\n      <td>0</td>\n      <td>0</td>\n      <td>0</td>\n      <td>0</td>\n    </tr>\n  </tbody>\n</table>\n<p>6250 rows × 158 columns</p>\n</div>"
     },
     "execution_count": 65,
     "metadata": {},
     "output_type": "execute_result"
    }
   ],
   "source": [
    "# Example using pandas get_dummies for nominal data\n",
    "df_relevant = pd.get_dummies(df_relevant, columns=['Genres', 'Category'], drop_first=False)\n",
    "for col in df_relevant.columns:\n",
    "    if 'Genres' in col or 'Category' in col:\n",
    "        df_relevant[col] = df_relevant[col].astype(int)\n",
    "\n",
    "df_relevant"
   ],
   "metadata": {
    "collapsed": false
   }
  }
 ],
 "metadata": {
  "kernelspec": {
   "display_name": "Python 3",
   "language": "python",
   "name": "python3"
  },
  "language_info": {
   "codemirror_mode": {
    "name": "ipython",
    "version": 2
   },
   "file_extension": ".py",
   "mimetype": "text/x-python",
   "name": "python",
   "nbconvert_exporter": "python",
   "pygments_lexer": "ipython2",
   "version": "2.7.6"
  }
 },
 "nbformat": 4,
 "nbformat_minor": 0
}
