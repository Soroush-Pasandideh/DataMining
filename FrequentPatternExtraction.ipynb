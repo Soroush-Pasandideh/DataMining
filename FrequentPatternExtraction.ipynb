{
 "cells": [
  {
   "cell_type": "markdown",
   "metadata": {
    "collapsed": false,
    "jupyter": {
     "outputs_hidden": false
    }
   },
   "source": [
    "## Imports"
   ]
  },
  {
   "cell_type": "code",
   "execution_count": 1,
   "metadata": {
    "collapsed": true,
    "jupyter": {
     "outputs_hidden": true
    }
   },
   "outputs": [],
   "source": [
    "import pandas as pd\n",
    "from mlxtend.frequent_patterns import apriori, association_rules\n",
    "from mlxtend.preprocessing import TransactionEncoder"
   ]
  },
  {
   "cell_type": "markdown",
   "metadata": {
    "collapsed": false,
    "jupyter": {
     "outputs_hidden": false
    }
   },
   "source": [
    "## Load dataframe"
   ]
  },
  {
   "cell_type": "code",
   "execution_count": 4,
   "metadata": {
    "collapsed": false,
    "jupyter": {
     "outputs_hidden": false
    }
   },
   "outputs": [],
   "source": [
    "df = pd.read_csv('combined_df.csv')"
   ]
  },
  {
   "cell_type": "markdown",
   "metadata": {
    "collapsed": false,
    "jupyter": {
     "outputs_hidden": false
    }
   },
   "source": [
    "## binning numeric columns"
   ]
  },
  {
   "cell_type": "code",
   "execution_count": 207,
   "metadata": {
    "collapsed": false,
    "jupyter": {
     "outputs_hidden": false
    }
   },
   "outputs": [],
   "source": [
    "count_quantiles = 3\n",
    "# binning well distributed columns\n",
    "for column in ['Normal_Rating_Count', 'Normal_Rating', 'Normal_Reviews', 'Normal_Size', 'Normal_Installs']:\n",
    "    df[column + '_binned'] = pd.qcut(df[column], q=count_quantiles, labels=['Low', 'Medium', 'High'])\n",
    "# binning skew distributed column\n",
    "df[['Normal_Revenue_binned']] = \"Zero\"\n",
    "non_zero_mask = df['Normal_Revenue'] > 0\n",
    "df.loc[non_zero_mask, 'Normal_Revenue_binned'] = pd.qcut(df.loc[non_zero_mask, 'Normal_Revenue'], q=count_quantiles, labels=['Low', 'Medium', 'High'])\n",
    "# binning skew distributed column\n",
    "df[['Normal_Price_binned']] = \"Zero\"\n",
    "non_zero_mask = df['Normal_Price'] > 0\n",
    "df.loc[non_zero_mask, 'Normal_Price_binned'] = pd.qcut(df.loc[non_zero_mask, 'Normal_Price'], q=count_quantiles, labels=['Low', 'Medium', 'High'])"
   ]
  },
  {
   "cell_type": "code",
   "execution_count": 208,
   "metadata": {
    "collapsed": false,
    "jupyter": {
     "outputs_hidden": false
    }
   },
   "outputs": [],
   "source": [
    "df_relevant = df[\n",
    "    ['Type', 'Genres', 'Normal_Rating_Count_binned', 'Released', 'Category', 'Normal_Rating_binned', 'Normal_Reviews_binned', 'Normal_Size_binned',\n",
    "     'Normal_Installs_binned', 'Normal_Price_binned', 'Content Rating', 'Normal_Revenue_binned']]"
   ]
  },
  {
   "cell_type": "markdown",
   "metadata": {
    "collapsed": false,
    "jupyter": {
     "outputs_hidden": false
    }
   },
   "source": [
    "## Extract Frequent Pattern"
   ]
  },
  {
   "cell_type": "code",
   "execution_count": 210,
   "metadata": {
    "collapsed": false,
    "jupyter": {
     "outputs_hidden": false
    }
   },
   "outputs": [],
   "source": [
    "def apply_apriori(transactions, min_support=0.5, min_confidence=0.5):\n",
    "    te = TransactionEncoder()\n",
    "    te_ary = te.fit(transactions).transform(transactions)\n",
    "    df = pd.DataFrame(te_ary, columns=te.columns_)\n",
    "\n",
    "    frequent_itemsets = apriori(df, min_support=min_support, use_colnames=True)\n",
    "    return frequent_itemsets"
   ]
  },
  {
   "cell_type": "code",
   "execution_count": 213,
   "metadata": {
    "collapsed": false,
    "jupyter": {
     "outputs_hidden": false
    }
   },
   "outputs": [
    {
     "data": {
      "text/html": [
       "<div>\n",
       "<style scoped>\n",
       "    .dataframe tbody tr th:only-of-type {\n",
       "        vertical-align: middle;\n",
       "    }\n",
       "\n",
       "    .dataframe tbody tr th {\n",
       "        vertical-align: top;\n",
       "    }\n",
       "\n",
       "    .dataframe thead th {\n",
       "        text-align: right;\n",
       "    }\n",
       "</style>\n",
       "<table border=\"1\" class=\"dataframe\">\n",
       "  <thead>\n",
       "    <tr style=\"text-align: right;\">\n",
       "      <th></th>\n",
       "      <th>support</th>\n",
       "      <th>itemsets</th>\n",
       "    </tr>\n",
       "  </thead>\n",
       "  <tbody>\n",
       "    <tr>\n",
       "      <th>2</th>\n",
       "      <td>0.94256</td>\n",
       "      <td>(Normal_Revenue_binned: Zero)</td>\n",
       "    </tr>\n",
       "    <tr>\n",
       "      <th>1</th>\n",
       "      <td>0.94240</td>\n",
       "      <td>(Normal_Price_binned: Zero)</td>\n",
       "    </tr>\n",
       "    <tr>\n",
       "      <th>7</th>\n",
       "      <td>0.94240</td>\n",
       "      <td>(Normal_Revenue_binned: Zero, Normal_Price_bin...</td>\n",
       "    </tr>\n",
       "    <tr>\n",
       "      <th>3</th>\n",
       "      <td>0.93056</td>\n",
       "      <td>(Type: 0)</td>\n",
       "    </tr>\n",
       "    <tr>\n",
       "      <th>8</th>\n",
       "      <td>0.93056</td>\n",
       "      <td>(Type: 0, Normal_Price_binned: Zero)</td>\n",
       "    </tr>\n",
       "    <tr>\n",
       "      <th>9</th>\n",
       "      <td>0.93056</td>\n",
       "      <td>(Normal_Revenue_binned: Zero, Type: 0)</td>\n",
       "    </tr>\n",
       "    <tr>\n",
       "      <th>13</th>\n",
       "      <td>0.93056</td>\n",
       "      <td>(Normal_Revenue_binned: Zero, Type: 0, Normal_...</td>\n",
       "    </tr>\n",
       "    <tr>\n",
       "      <th>0</th>\n",
       "      <td>0.84240</td>\n",
       "      <td>(Content Rating: Everyone)</td>\n",
       "    </tr>\n",
       "    <tr>\n",
       "      <th>5</th>\n",
       "      <td>0.79520</td>\n",
       "      <td>(Normal_Revenue_binned: Zero, Content Rating: ...</td>\n",
       "    </tr>\n",
       "    <tr>\n",
       "      <th>4</th>\n",
       "      <td>0.79504</td>\n",
       "      <td>(Content Rating: Everyone, Normal_Price_binned...</td>\n",
       "    </tr>\n",
       "    <tr>\n",
       "      <th>10</th>\n",
       "      <td>0.79504</td>\n",
       "      <td>(Normal_Revenue_binned: Zero, Content Rating: ...</td>\n",
       "    </tr>\n",
       "    <tr>\n",
       "      <th>6</th>\n",
       "      <td>0.78352</td>\n",
       "      <td>(Content Rating: Everyone, Type: 0)</td>\n",
       "    </tr>\n",
       "    <tr>\n",
       "      <th>11</th>\n",
       "      <td>0.78352</td>\n",
       "      <td>(Content Rating: Everyone, Type: 0, Normal_Pri...</td>\n",
       "    </tr>\n",
       "    <tr>\n",
       "      <th>12</th>\n",
       "      <td>0.78352</td>\n",
       "      <td>(Normal_Revenue_binned: Zero, Content Rating: ...</td>\n",
       "    </tr>\n",
       "    <tr>\n",
       "      <th>14</th>\n",
       "      <td>0.78352</td>\n",
       "      <td>(Normal_Revenue_binned: Zero, Content Rating: ...</td>\n",
       "    </tr>\n",
       "  </tbody>\n",
       "</table>\n",
       "</div>"
      ],
      "text/plain": [
       "    support                                           itemsets\n",
       "2   0.94256                      (Normal_Revenue_binned: Zero)\n",
       "1   0.94240                        (Normal_Price_binned: Zero)\n",
       "7   0.94240  (Normal_Revenue_binned: Zero, Normal_Price_bin...\n",
       "3   0.93056                                          (Type: 0)\n",
       "8   0.93056               (Type: 0, Normal_Price_binned: Zero)\n",
       "9   0.93056             (Normal_Revenue_binned: Zero, Type: 0)\n",
       "13  0.93056  (Normal_Revenue_binned: Zero, Type: 0, Normal_...\n",
       "0   0.84240                         (Content Rating: Everyone)\n",
       "5   0.79520  (Normal_Revenue_binned: Zero, Content Rating: ...\n",
       "4   0.79504  (Content Rating: Everyone, Normal_Price_binned...\n",
       "10  0.79504  (Normal_Revenue_binned: Zero, Content Rating: ...\n",
       "6   0.78352                (Content Rating: Everyone, Type: 0)\n",
       "11  0.78352  (Content Rating: Everyone, Type: 0, Normal_Pri...\n",
       "12  0.78352  (Normal_Revenue_binned: Zero, Content Rating: ...\n",
       "14  0.78352  (Normal_Revenue_binned: Zero, Content Rating: ..."
      ]
     },
     "execution_count": 213,
     "metadata": {},
     "output_type": "execute_result"
    }
   ],
   "source": [
    "transactions = df_relevant.apply(lambda row: [f\"{col}: {val}\" for col, val in row.items() if pd.notna(val)], axis=1).tolist()\n",
    "frequent_itemsets = apply_apriori(transactions)\n",
    "frequent_itemsets.sort_values(by='support', ascending=False)"
   ]
  },
  {
   "cell_type": "markdown",
   "metadata": {
    "collapsed": false,
    "jupyter": {
     "outputs_hidden": false
    }
   },
   "source": [
    "## Find maximal itemsets"
   ]
  },
  {
   "cell_type": "code",
   "execution_count": 217,
   "metadata": {
    "collapsed": false,
    "jupyter": {
     "outputs_hidden": false
    }
   },
   "outputs": [
    {
     "data": {
      "text/html": [
       "<div>\n",
       "<style scoped>\n",
       "    .dataframe tbody tr th:only-of-type {\n",
       "        vertical-align: middle;\n",
       "    }\n",
       "\n",
       "    .dataframe tbody tr th {\n",
       "        vertical-align: top;\n",
       "    }\n",
       "\n",
       "    .dataframe thead th {\n",
       "        text-align: right;\n",
       "    }\n",
       "</style>\n",
       "<table border=\"1\" class=\"dataframe\">\n",
       "  <thead>\n",
       "    <tr style=\"text-align: right;\">\n",
       "      <th></th>\n",
       "      <th>support</th>\n",
       "      <th>itemsets</th>\n",
       "    </tr>\n",
       "  </thead>\n",
       "  <tbody>\n",
       "    <tr>\n",
       "      <th>14</th>\n",
       "      <td>0.78352</td>\n",
       "      <td>(Normal_Revenue_binned: Zero, Content Rating: ...</td>\n",
       "    </tr>\n",
       "  </tbody>\n",
       "</table>\n",
       "</div>"
      ],
      "text/plain": [
       "    support                                           itemsets\n",
       "14  0.78352  (Normal_Revenue_binned: Zero, Content Rating: ..."
      ]
     },
     "execution_count": 217,
     "metadata": {},
     "output_type": "execute_result"
    }
   ],
   "source": [
    "def is_maximal(frequent_itemsets):\n",
    "    maximal_itemsets = []\n",
    "    for i, itemset in frequent_itemsets.iterrows():\n",
    "        is_subset = False\n",
    "        for j, other_itemset in frequent_itemsets.iterrows():\n",
    "            if itemset['itemsets'] != other_itemset['itemsets'] and itemset['itemsets'].issubset(other_itemset['itemsets']):\n",
    "                is_subset = True\n",
    "                break\n",
    "        if not is_subset:\n",
    "            maximal_itemsets.append(itemset)\n",
    "    return pd.DataFrame(maximal_itemsets)\n",
    "\n",
    "maximal_itemsets = is_maximal(frequent_itemsets)\n",
    "maximal_itemsets"
   ]
  },
  {
   "cell_type": "markdown",
   "metadata": {
    "collapsed": false,
    "jupyter": {
     "outputs_hidden": false
    }
   },
   "source": [
    "## extract association rules based on maximal itemsets"
   ]
  },
  {
   "cell_type": "code",
   "execution_count": 219,
   "metadata": {
    "collapsed": false,
    "jupyter": {
     "outputs_hidden": false
    }
   },
   "outputs": [
    {
     "data": {
      "text/html": [
       "<div>\n",
       "<style scoped>\n",
       "    .dataframe tbody tr th:only-of-type {\n",
       "        vertical-align: middle;\n",
       "    }\n",
       "\n",
       "    .dataframe tbody tr th {\n",
       "        vertical-align: top;\n",
       "    }\n",
       "\n",
       "    .dataframe thead th {\n",
       "        text-align: right;\n",
       "    }\n",
       "</style>\n",
       "<table border=\"1\" class=\"dataframe\">\n",
       "  <thead>\n",
       "    <tr style=\"text-align: right;\">\n",
       "      <th></th>\n",
       "      <th>antecedents</th>\n",
       "      <th>consequents</th>\n",
       "      <th>antecedent support</th>\n",
       "      <th>consequent support</th>\n",
       "      <th>support</th>\n",
       "      <th>confidence</th>\n",
       "      <th>lift</th>\n",
       "      <th>leverage</th>\n",
       "      <th>conviction</th>\n",
       "      <th>zhangs_metric</th>\n",
       "    </tr>\n",
       "  </thead>\n",
       "  <tbody>\n",
       "    <tr>\n",
       "      <th>0</th>\n",
       "      <td>(Normal_Revenue_binned: Zero, Content Rating: ...</td>\n",
       "      <td>(Normal_Price_binned: Zero)</td>\n",
       "      <td>NaN</td>\n",
       "      <td>NaN</td>\n",
       "      <td>0.78352</td>\n",
       "      <td>NaN</td>\n",
       "      <td>NaN</td>\n",
       "      <td>NaN</td>\n",
       "      <td>NaN</td>\n",
       "      <td>NaN</td>\n",
       "    </tr>\n",
       "    <tr>\n",
       "      <th>1</th>\n",
       "      <td>(Normal_Revenue_binned: Zero, Content Rating: ...</td>\n",
       "      <td>(Type: 0)</td>\n",
       "      <td>NaN</td>\n",
       "      <td>NaN</td>\n",
       "      <td>0.78352</td>\n",
       "      <td>NaN</td>\n",
       "      <td>NaN</td>\n",
       "      <td>NaN</td>\n",
       "      <td>NaN</td>\n",
       "      <td>NaN</td>\n",
       "    </tr>\n",
       "    <tr>\n",
       "      <th>2</th>\n",
       "      <td>(Normal_Revenue_binned: Zero, Type: 0, Normal_...</td>\n",
       "      <td>(Content Rating: Everyone)</td>\n",
       "      <td>NaN</td>\n",
       "      <td>NaN</td>\n",
       "      <td>0.78352</td>\n",
       "      <td>NaN</td>\n",
       "      <td>NaN</td>\n",
       "      <td>NaN</td>\n",
       "      <td>NaN</td>\n",
       "      <td>NaN</td>\n",
       "    </tr>\n",
       "    <tr>\n",
       "      <th>3</th>\n",
       "      <td>(Content Rating: Everyone, Type: 0, Normal_Pri...</td>\n",
       "      <td>(Normal_Revenue_binned: Zero)</td>\n",
       "      <td>NaN</td>\n",
       "      <td>NaN</td>\n",
       "      <td>0.78352</td>\n",
       "      <td>NaN</td>\n",
       "      <td>NaN</td>\n",
       "      <td>NaN</td>\n",
       "      <td>NaN</td>\n",
       "      <td>NaN</td>\n",
       "    </tr>\n",
       "    <tr>\n",
       "      <th>4</th>\n",
       "      <td>(Normal_Revenue_binned: Zero, Content Rating: ...</td>\n",
       "      <td>(Type: 0, Normal_Price_binned: Zero)</td>\n",
       "      <td>NaN</td>\n",
       "      <td>NaN</td>\n",
       "      <td>0.78352</td>\n",
       "      <td>NaN</td>\n",
       "      <td>NaN</td>\n",
       "      <td>NaN</td>\n",
       "      <td>NaN</td>\n",
       "      <td>NaN</td>\n",
       "    </tr>\n",
       "    <tr>\n",
       "      <th>5</th>\n",
       "      <td>(Normal_Revenue_binned: Zero, Type: 0)</td>\n",
       "      <td>(Content Rating: Everyone, Normal_Price_binned...</td>\n",
       "      <td>NaN</td>\n",
       "      <td>NaN</td>\n",
       "      <td>0.78352</td>\n",
       "      <td>NaN</td>\n",
       "      <td>NaN</td>\n",
       "      <td>NaN</td>\n",
       "      <td>NaN</td>\n",
       "      <td>NaN</td>\n",
       "    </tr>\n",
       "    <tr>\n",
       "      <th>6</th>\n",
       "      <td>(Normal_Revenue_binned: Zero, Normal_Price_bin...</td>\n",
       "      <td>(Content Rating: Everyone, Type: 0)</td>\n",
       "      <td>NaN</td>\n",
       "      <td>NaN</td>\n",
       "      <td>0.78352</td>\n",
       "      <td>NaN</td>\n",
       "      <td>NaN</td>\n",
       "      <td>NaN</td>\n",
       "      <td>NaN</td>\n",
       "      <td>NaN</td>\n",
       "    </tr>\n",
       "    <tr>\n",
       "      <th>7</th>\n",
       "      <td>(Content Rating: Everyone, Type: 0)</td>\n",
       "      <td>(Normal_Revenue_binned: Zero, Normal_Price_bin...</td>\n",
       "      <td>NaN</td>\n",
       "      <td>NaN</td>\n",
       "      <td>0.78352</td>\n",
       "      <td>NaN</td>\n",
       "      <td>NaN</td>\n",
       "      <td>NaN</td>\n",
       "      <td>NaN</td>\n",
       "      <td>NaN</td>\n",
       "    </tr>\n",
       "    <tr>\n",
       "      <th>8</th>\n",
       "      <td>(Content Rating: Everyone, Normal_Price_binned...</td>\n",
       "      <td>(Normal_Revenue_binned: Zero, Type: 0)</td>\n",
       "      <td>NaN</td>\n",
       "      <td>NaN</td>\n",
       "      <td>0.78352</td>\n",
       "      <td>NaN</td>\n",
       "      <td>NaN</td>\n",
       "      <td>NaN</td>\n",
       "      <td>NaN</td>\n",
       "      <td>NaN</td>\n",
       "    </tr>\n",
       "    <tr>\n",
       "      <th>9</th>\n",
       "      <td>(Type: 0, Normal_Price_binned: Zero)</td>\n",
       "      <td>(Normal_Revenue_binned: Zero, Content Rating: ...</td>\n",
       "      <td>NaN</td>\n",
       "      <td>NaN</td>\n",
       "      <td>0.78352</td>\n",
       "      <td>NaN</td>\n",
       "      <td>NaN</td>\n",
       "      <td>NaN</td>\n",
       "      <td>NaN</td>\n",
       "      <td>NaN</td>\n",
       "    </tr>\n",
       "    <tr>\n",
       "      <th>10</th>\n",
       "      <td>(Normal_Revenue_binned: Zero)</td>\n",
       "      <td>(Content Rating: Everyone, Type: 0, Normal_Pri...</td>\n",
       "      <td>NaN</td>\n",
       "      <td>NaN</td>\n",
       "      <td>0.78352</td>\n",
       "      <td>NaN</td>\n",
       "      <td>NaN</td>\n",
       "      <td>NaN</td>\n",
       "      <td>NaN</td>\n",
       "      <td>NaN</td>\n",
       "    </tr>\n",
       "    <tr>\n",
       "      <th>11</th>\n",
       "      <td>(Content Rating: Everyone)</td>\n",
       "      <td>(Normal_Revenue_binned: Zero, Type: 0, Normal_...</td>\n",
       "      <td>NaN</td>\n",
       "      <td>NaN</td>\n",
       "      <td>0.78352</td>\n",
       "      <td>NaN</td>\n",
       "      <td>NaN</td>\n",
       "      <td>NaN</td>\n",
       "      <td>NaN</td>\n",
       "      <td>NaN</td>\n",
       "    </tr>\n",
       "    <tr>\n",
       "      <th>12</th>\n",
       "      <td>(Type: 0)</td>\n",
       "      <td>(Normal_Revenue_binned: Zero, Content Rating: ...</td>\n",
       "      <td>NaN</td>\n",
       "      <td>NaN</td>\n",
       "      <td>0.78352</td>\n",
       "      <td>NaN</td>\n",
       "      <td>NaN</td>\n",
       "      <td>NaN</td>\n",
       "      <td>NaN</td>\n",
       "      <td>NaN</td>\n",
       "    </tr>\n",
       "    <tr>\n",
       "      <th>13</th>\n",
       "      <td>(Normal_Price_binned: Zero)</td>\n",
       "      <td>(Normal_Revenue_binned: Zero, Content Rating: ...</td>\n",
       "      <td>NaN</td>\n",
       "      <td>NaN</td>\n",
       "      <td>0.78352</td>\n",
       "      <td>NaN</td>\n",
       "      <td>NaN</td>\n",
       "      <td>NaN</td>\n",
       "      <td>NaN</td>\n",
       "      <td>NaN</td>\n",
       "    </tr>\n",
       "  </tbody>\n",
       "</table>\n",
       "</div>"
      ],
      "text/plain": [
       "                                          antecedents   \n",
       "0   (Normal_Revenue_binned: Zero, Content Rating: ...  \\\n",
       "1   (Normal_Revenue_binned: Zero, Content Rating: ...   \n",
       "2   (Normal_Revenue_binned: Zero, Type: 0, Normal_...   \n",
       "3   (Content Rating: Everyone, Type: 0, Normal_Pri...   \n",
       "4   (Normal_Revenue_binned: Zero, Content Rating: ...   \n",
       "5              (Normal_Revenue_binned: Zero, Type: 0)   \n",
       "6   (Normal_Revenue_binned: Zero, Normal_Price_bin...   \n",
       "7                 (Content Rating: Everyone, Type: 0)   \n",
       "8   (Content Rating: Everyone, Normal_Price_binned...   \n",
       "9                (Type: 0, Normal_Price_binned: Zero)   \n",
       "10                      (Normal_Revenue_binned: Zero)   \n",
       "11                         (Content Rating: Everyone)   \n",
       "12                                          (Type: 0)   \n",
       "13                        (Normal_Price_binned: Zero)   \n",
       "\n",
       "                                          consequents  antecedent support   \n",
       "0                         (Normal_Price_binned: Zero)                 NaN  \\\n",
       "1                                           (Type: 0)                 NaN   \n",
       "2                          (Content Rating: Everyone)                 NaN   \n",
       "3                       (Normal_Revenue_binned: Zero)                 NaN   \n",
       "4                (Type: 0, Normal_Price_binned: Zero)                 NaN   \n",
       "5   (Content Rating: Everyone, Normal_Price_binned...                 NaN   \n",
       "6                 (Content Rating: Everyone, Type: 0)                 NaN   \n",
       "7   (Normal_Revenue_binned: Zero, Normal_Price_bin...                 NaN   \n",
       "8              (Normal_Revenue_binned: Zero, Type: 0)                 NaN   \n",
       "9   (Normal_Revenue_binned: Zero, Content Rating: ...                 NaN   \n",
       "10  (Content Rating: Everyone, Type: 0, Normal_Pri...                 NaN   \n",
       "11  (Normal_Revenue_binned: Zero, Type: 0, Normal_...                 NaN   \n",
       "12  (Normal_Revenue_binned: Zero, Content Rating: ...                 NaN   \n",
       "13  (Normal_Revenue_binned: Zero, Content Rating: ...                 NaN   \n",
       "\n",
       "    consequent support  support  confidence  lift  leverage  conviction   \n",
       "0                  NaN  0.78352         NaN   NaN       NaN         NaN  \\\n",
       "1                  NaN  0.78352         NaN   NaN       NaN         NaN   \n",
       "2                  NaN  0.78352         NaN   NaN       NaN         NaN   \n",
       "3                  NaN  0.78352         NaN   NaN       NaN         NaN   \n",
       "4                  NaN  0.78352         NaN   NaN       NaN         NaN   \n",
       "5                  NaN  0.78352         NaN   NaN       NaN         NaN   \n",
       "6                  NaN  0.78352         NaN   NaN       NaN         NaN   \n",
       "7                  NaN  0.78352         NaN   NaN       NaN         NaN   \n",
       "8                  NaN  0.78352         NaN   NaN       NaN         NaN   \n",
       "9                  NaN  0.78352         NaN   NaN       NaN         NaN   \n",
       "10                 NaN  0.78352         NaN   NaN       NaN         NaN   \n",
       "11                 NaN  0.78352         NaN   NaN       NaN         NaN   \n",
       "12                 NaN  0.78352         NaN   NaN       NaN         NaN   \n",
       "13                 NaN  0.78352         NaN   NaN       NaN         NaN   \n",
       "\n",
       "    zhangs_metric  \n",
       "0             NaN  \n",
       "1             NaN  \n",
       "2             NaN  \n",
       "3             NaN  \n",
       "4             NaN  \n",
       "5             NaN  \n",
       "6             NaN  \n",
       "7             NaN  \n",
       "8             NaN  \n",
       "9             NaN  \n",
       "10            NaN  \n",
       "11            NaN  \n",
       "12            NaN  \n",
       "13            NaN  "
      ]
     },
     "execution_count": 219,
     "metadata": {},
     "output_type": "execute_result"
    }
   ],
   "source": [
    "rules = association_rules(maximal_itemsets, metric=\"confidence\", min_threshold=0.7, support_only=True)\n",
    "rules"
   ]
  }
 ],
 "metadata": {
  "kernelspec": {
   "display_name": "Python 3 (ipykernel)",
   "language": "python",
   "name": "python3"
  },
  "language_info": {
   "codemirror_mode": {
    "name": "ipython",
    "version": 3
   },
   "file_extension": ".py",
   "mimetype": "text/x-python",
   "name": "python",
   "nbconvert_exporter": "python",
   "pygments_lexer": "ipython3",
   "version": "3.10.5"
  }
 },
 "nbformat": 4,
 "nbformat_minor": 4
}
