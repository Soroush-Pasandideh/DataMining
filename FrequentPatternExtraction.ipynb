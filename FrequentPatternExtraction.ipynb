{
 "cells": [
  {
   "cell_type": "markdown",
   "source": [
    "## Imports"
   ],
   "metadata": {
    "collapsed": false
   }
  },
  {
   "cell_type": "code",
   "execution_count": 205,
   "metadata": {
    "collapsed": true
   },
   "outputs": [],
   "source": [
    "import pandas as pd\n",
    "from mlxtend.frequent_patterns import apriori, association_rules\n",
    "from mlxtend.preprocessing import TransactionEncoder"
   ]
  },
  {
   "cell_type": "markdown",
   "source": [
    "## Load dataframe"
   ],
   "metadata": {
    "collapsed": false
   }
  },
  {
   "cell_type": "code",
   "execution_count": 206,
   "outputs": [],
   "source": [
    "df = pd.read_csv('combined_df.csv')"
   ],
   "metadata": {
    "collapsed": false
   }
  },
  {
   "cell_type": "markdown",
   "source": [
    "## binning numeric columns"
   ],
   "metadata": {
    "collapsed": false
   }
  },
  {
   "cell_type": "code",
   "execution_count": 207,
   "outputs": [],
   "source": [
    "count_quantiles = 3\n",
    "# binning well distributed columns\n",
    "for column in ['Normal_Rating_Count', 'Normal_Rating', 'Normal_Reviews', 'Normal_Size', 'Normal_Installs']:\n",
    "    df[column + '_binned'] = pd.qcut(df[column], q=count_quantiles, labels=['Low', 'Medium', 'High'])\n",
    "# binning skew distributed column\n",
    "df[['Normal_Revenue_binned']] = \"Zero\"\n",
    "non_zero_mask = df['Normal_Revenue'] > 0\n",
    "df.loc[non_zero_mask, 'Normal_Revenue_binned'] = pd.qcut(df.loc[non_zero_mask, 'Normal_Revenue'], q=count_quantiles, labels=['Low', 'Medium', 'High'])\n",
    "# binning skew distributed column\n",
    "df[['Normal_Price_binned']] = \"Zero\"\n",
    "non_zero_mask = df['Normal_Price'] > 0\n",
    "df.loc[non_zero_mask, 'Normal_Price_binned'] = pd.qcut(df.loc[non_zero_mask, 'Normal_Price'], q=count_quantiles, labels=['Low', 'Medium', 'High'])"
   ],
   "metadata": {
    "collapsed": false
   }
  },
  {
   "cell_type": "code",
   "execution_count": 208,
   "outputs": [],
   "source": [
    "df_relevant = df[\n",
    "    ['Type', 'Genres', 'Normal_Rating_Count_binned', 'Released', 'Category', 'Normal_Rating_binned', 'Normal_Reviews_binned', 'Normal_Size_binned',\n",
    "     'Normal_Installs_binned', 'Normal_Price_binned', 'Content Rating', 'Normal_Revenue_binned']]"
   ],
   "metadata": {
    "collapsed": false
   }
  },
  {
   "cell_type": "markdown",
   "source": [
    "## Extract Frequent Pattern"
   ],
   "metadata": {
    "collapsed": false
   }
  },
  {
   "cell_type": "code",
   "execution_count": 210,
   "outputs": [],
   "source": [
    "def apply_apriori(transactions, min_support=0.5, min_confidence=0.5):\n",
    "    te = TransactionEncoder()\n",
    "    te_ary = te.fit(transactions).transform(transactions)\n",
    "    df = pd.DataFrame(te_ary, columns=te.columns_)\n",
    "\n",
    "    frequent_itemsets = apriori(df, min_support=min_support, use_colnames=True)\n",
    "    return frequent_itemsets"
   ],
   "metadata": {
    "collapsed": false
   }
  },
  {
   "cell_type": "code",
   "execution_count": 213,
   "outputs": [
    {
     "data": {
      "text/plain": "    support                                           itemsets\n2   0.94256                      (Normal_Revenue_binned: Zero)\n1   0.94240                        (Normal_Price_binned: Zero)\n7   0.94240  (Normal_Revenue_binned: Zero, Normal_Price_bin...\n3   0.93056                                          (Type: 0)\n8   0.93056               (Type: 0, Normal_Price_binned: Zero)\n9   0.93056             (Normal_Revenue_binned: Zero, Type: 0)\n13  0.93056  (Normal_Revenue_binned: Zero, Type: 0, Normal_...\n0   0.84240                         (Content Rating: Everyone)\n5   0.79520  (Normal_Revenue_binned: Zero, Content Rating: ...\n4   0.79504  (Content Rating: Everyone, Normal_Price_binned...\n10  0.79504  (Normal_Revenue_binned: Zero, Content Rating: ...\n6   0.78352                (Content Rating: Everyone, Type: 0)\n11  0.78352  (Content Rating: Everyone, Type: 0, Normal_Pri...\n12  0.78352  (Normal_Revenue_binned: Zero, Content Rating: ...\n14  0.78352  (Normal_Revenue_binned: Zero, Content Rating: ...",
      "text/html": "<div>\n<style scoped>\n    .dataframe tbody tr th:only-of-type {\n        vertical-align: middle;\n    }\n\n    .dataframe tbody tr th {\n        vertical-align: top;\n    }\n\n    .dataframe thead th {\n        text-align: right;\n    }\n</style>\n<table border=\"1\" class=\"dataframe\">\n  <thead>\n    <tr style=\"text-align: right;\">\n      <th></th>\n      <th>support</th>\n      <th>itemsets</th>\n    </tr>\n  </thead>\n  <tbody>\n    <tr>\n      <th>2</th>\n      <td>0.94256</td>\n      <td>(Normal_Revenue_binned: Zero)</td>\n    </tr>\n    <tr>\n      <th>1</th>\n      <td>0.94240</td>\n      <td>(Normal_Price_binned: Zero)</td>\n    </tr>\n    <tr>\n      <th>7</th>\n      <td>0.94240</td>\n      <td>(Normal_Revenue_binned: Zero, Normal_Price_bin...</td>\n    </tr>\n    <tr>\n      <th>3</th>\n      <td>0.93056</td>\n      <td>(Type: 0)</td>\n    </tr>\n    <tr>\n      <th>8</th>\n      <td>0.93056</td>\n      <td>(Type: 0, Normal_Price_binned: Zero)</td>\n    </tr>\n    <tr>\n      <th>9</th>\n      <td>0.93056</td>\n      <td>(Normal_Revenue_binned: Zero, Type: 0)</td>\n    </tr>\n    <tr>\n      <th>13</th>\n      <td>0.93056</td>\n      <td>(Normal_Revenue_binned: Zero, Type: 0, Normal_...</td>\n    </tr>\n    <tr>\n      <th>0</th>\n      <td>0.84240</td>\n      <td>(Content Rating: Everyone)</td>\n    </tr>\n    <tr>\n      <th>5</th>\n      <td>0.79520</td>\n      <td>(Normal_Revenue_binned: Zero, Content Rating: ...</td>\n    </tr>\n    <tr>\n      <th>4</th>\n      <td>0.79504</td>\n      <td>(Content Rating: Everyone, Normal_Price_binned...</td>\n    </tr>\n    <tr>\n      <th>10</th>\n      <td>0.79504</td>\n      <td>(Normal_Revenue_binned: Zero, Content Rating: ...</td>\n    </tr>\n    <tr>\n      <th>6</th>\n      <td>0.78352</td>\n      <td>(Content Rating: Everyone, Type: 0)</td>\n    </tr>\n    <tr>\n      <th>11</th>\n      <td>0.78352</td>\n      <td>(Content Rating: Everyone, Type: 0, Normal_Pri...</td>\n    </tr>\n    <tr>\n      <th>12</th>\n      <td>0.78352</td>\n      <td>(Normal_Revenue_binned: Zero, Content Rating: ...</td>\n    </tr>\n    <tr>\n      <th>14</th>\n      <td>0.78352</td>\n      <td>(Normal_Revenue_binned: Zero, Content Rating: ...</td>\n    </tr>\n  </tbody>\n</table>\n</div>"
     },
     "execution_count": 213,
     "metadata": {},
     "output_type": "execute_result"
    }
   ],
   "source": [
    "transactions = df_relevant.apply(lambda row: [f\"{col}: {val}\" for col, val in row.items() if pd.notna(val)], axis=1).tolist()\n",
    "frequent_itemsets = apply_apriori(transactions)\n",
    "frequent_itemsets.sort_values(by='support', ascending=False)"
   ],
   "metadata": {
    "collapsed": false
   }
  },
  {
   "cell_type": "markdown",
   "source": [
    "## Find maximal itemsets"
   ],
   "metadata": {
    "collapsed": false
   }
  },
  {
   "cell_type": "code",
   "execution_count": 217,
   "outputs": [
    {
     "data": {
      "text/plain": "    support                                           itemsets\n14  0.78352  (Normal_Revenue_binned: Zero, Content Rating: ...",
      "text/html": "<div>\n<style scoped>\n    .dataframe tbody tr th:only-of-type {\n        vertical-align: middle;\n    }\n\n    .dataframe tbody tr th {\n        vertical-align: top;\n    }\n\n    .dataframe thead th {\n        text-align: right;\n    }\n</style>\n<table border=\"1\" class=\"dataframe\">\n  <thead>\n    <tr style=\"text-align: right;\">\n      <th></th>\n      <th>support</th>\n      <th>itemsets</th>\n    </tr>\n  </thead>\n  <tbody>\n    <tr>\n      <th>14</th>\n      <td>0.78352</td>\n      <td>(Normal_Revenue_binned: Zero, Content Rating: ...</td>\n    </tr>\n  </tbody>\n</table>\n</div>"
     },
     "execution_count": 217,
     "metadata": {},
     "output_type": "execute_result"
    }
   ],
   "source": [
    "def is_maximal(frequent_itemsets):\n",
    "    maximal_itemsets = []\n",
    "    for i, itemset in frequent_itemsets.iterrows():\n",
    "        is_subset = False\n",
    "        for j, other_itemset in frequent_itemsets.iterrows():\n",
    "            if itemset['itemsets'] != other_itemset['itemsets'] and itemset['itemsets'].issubset(other_itemset['itemsets']):\n",
    "                is_subset = True\n",
    "                break\n",
    "        if not is_subset:\n",
    "            maximal_itemsets.append(itemset)\n",
    "    return pd.DataFrame(maximal_itemsets)\n",
    "\n",
    "maximal_itemsets = is_maximal(frequent_itemsets)\n",
    "maximal_itemsets"
   ],
   "metadata": {
    "collapsed": false
   }
  },
  {
   "cell_type": "markdown",
   "source": [
    "## extract association rules based on maximal itemsets"
   ],
   "metadata": {
    "collapsed": false
   }
  },
  {
   "cell_type": "code",
   "execution_count": 219,
   "outputs": [
    {
     "data": {
      "text/plain": "                                          antecedents   \n0   (Normal_Revenue_binned: Zero, Content Rating: ...  \\\n1   (Normal_Revenue_binned: Zero, Content Rating: ...   \n2   (Normal_Revenue_binned: Zero, Type: 0, Normal_...   \n3   (Content Rating: Everyone, Type: 0, Normal_Pri...   \n4   (Normal_Revenue_binned: Zero, Content Rating: ...   \n5              (Normal_Revenue_binned: Zero, Type: 0)   \n6   (Normal_Revenue_binned: Zero, Normal_Price_bin...   \n7                 (Content Rating: Everyone, Type: 0)   \n8   (Content Rating: Everyone, Normal_Price_binned...   \n9                (Type: 0, Normal_Price_binned: Zero)   \n10                      (Normal_Revenue_binned: Zero)   \n11                         (Content Rating: Everyone)   \n12                                          (Type: 0)   \n13                        (Normal_Price_binned: Zero)   \n\n                                          consequents  antecedent support   \n0                         (Normal_Price_binned: Zero)                 NaN  \\\n1                                           (Type: 0)                 NaN   \n2                          (Content Rating: Everyone)                 NaN   \n3                       (Normal_Revenue_binned: Zero)                 NaN   \n4                (Type: 0, Normal_Price_binned: Zero)                 NaN   \n5   (Content Rating: Everyone, Normal_Price_binned...                 NaN   \n6                 (Content Rating: Everyone, Type: 0)                 NaN   \n7   (Normal_Revenue_binned: Zero, Normal_Price_bin...                 NaN   \n8              (Normal_Revenue_binned: Zero, Type: 0)                 NaN   \n9   (Normal_Revenue_binned: Zero, Content Rating: ...                 NaN   \n10  (Content Rating: Everyone, Type: 0, Normal_Pri...                 NaN   \n11  (Normal_Revenue_binned: Zero, Type: 0, Normal_...                 NaN   \n12  (Normal_Revenue_binned: Zero, Content Rating: ...                 NaN   \n13  (Normal_Revenue_binned: Zero, Content Rating: ...                 NaN   \n\n    consequent support  support  confidence  lift  leverage  conviction   \n0                  NaN  0.78352         NaN   NaN       NaN         NaN  \\\n1                  NaN  0.78352         NaN   NaN       NaN         NaN   \n2                  NaN  0.78352         NaN   NaN       NaN         NaN   \n3                  NaN  0.78352         NaN   NaN       NaN         NaN   \n4                  NaN  0.78352         NaN   NaN       NaN         NaN   \n5                  NaN  0.78352         NaN   NaN       NaN         NaN   \n6                  NaN  0.78352         NaN   NaN       NaN         NaN   \n7                  NaN  0.78352         NaN   NaN       NaN         NaN   \n8                  NaN  0.78352         NaN   NaN       NaN         NaN   \n9                  NaN  0.78352         NaN   NaN       NaN         NaN   \n10                 NaN  0.78352         NaN   NaN       NaN         NaN   \n11                 NaN  0.78352         NaN   NaN       NaN         NaN   \n12                 NaN  0.78352         NaN   NaN       NaN         NaN   \n13                 NaN  0.78352         NaN   NaN       NaN         NaN   \n\n    zhangs_metric  \n0             NaN  \n1             NaN  \n2             NaN  \n3             NaN  \n4             NaN  \n5             NaN  \n6             NaN  \n7             NaN  \n8             NaN  \n9             NaN  \n10            NaN  \n11            NaN  \n12            NaN  \n13            NaN  ",
      "text/html": "<div>\n<style scoped>\n    .dataframe tbody tr th:only-of-type {\n        vertical-align: middle;\n    }\n\n    .dataframe tbody tr th {\n        vertical-align: top;\n    }\n\n    .dataframe thead th {\n        text-align: right;\n    }\n</style>\n<table border=\"1\" class=\"dataframe\">\n  <thead>\n    <tr style=\"text-align: right;\">\n      <th></th>\n      <th>antecedents</th>\n      <th>consequents</th>\n      <th>antecedent support</th>\n      <th>consequent support</th>\n      <th>support</th>\n      <th>confidence</th>\n      <th>lift</th>\n      <th>leverage</th>\n      <th>conviction</th>\n      <th>zhangs_metric</th>\n    </tr>\n  </thead>\n  <tbody>\n    <tr>\n      <th>0</th>\n      <td>(Normal_Revenue_binned: Zero, Content Rating: ...</td>\n      <td>(Normal_Price_binned: Zero)</td>\n      <td>NaN</td>\n      <td>NaN</td>\n      <td>0.78352</td>\n      <td>NaN</td>\n      <td>NaN</td>\n      <td>NaN</td>\n      <td>NaN</td>\n      <td>NaN</td>\n    </tr>\n    <tr>\n      <th>1</th>\n      <td>(Normal_Revenue_binned: Zero, Content Rating: ...</td>\n      <td>(Type: 0)</td>\n      <td>NaN</td>\n      <td>NaN</td>\n      <td>0.78352</td>\n      <td>NaN</td>\n      <td>NaN</td>\n      <td>NaN</td>\n      <td>NaN</td>\n      <td>NaN</td>\n    </tr>\n    <tr>\n      <th>2</th>\n      <td>(Normal_Revenue_binned: Zero, Type: 0, Normal_...</td>\n      <td>(Content Rating: Everyone)</td>\n      <td>NaN</td>\n      <td>NaN</td>\n      <td>0.78352</td>\n      <td>NaN</td>\n      <td>NaN</td>\n      <td>NaN</td>\n      <td>NaN</td>\n      <td>NaN</td>\n    </tr>\n    <tr>\n      <th>3</th>\n      <td>(Content Rating: Everyone, Type: 0, Normal_Pri...</td>\n      <td>(Normal_Revenue_binned: Zero)</td>\n      <td>NaN</td>\n      <td>NaN</td>\n      <td>0.78352</td>\n      <td>NaN</td>\n      <td>NaN</td>\n      <td>NaN</td>\n      <td>NaN</td>\n      <td>NaN</td>\n    </tr>\n    <tr>\n      <th>4</th>\n      <td>(Normal_Revenue_binned: Zero, Content Rating: ...</td>\n      <td>(Type: 0, Normal_Price_binned: Zero)</td>\n      <td>NaN</td>\n      <td>NaN</td>\n      <td>0.78352</td>\n      <td>NaN</td>\n      <td>NaN</td>\n      <td>NaN</td>\n      <td>NaN</td>\n      <td>NaN</td>\n    </tr>\n    <tr>\n      <th>5</th>\n      <td>(Normal_Revenue_binned: Zero, Type: 0)</td>\n      <td>(Content Rating: Everyone, Normal_Price_binned...</td>\n      <td>NaN</td>\n      <td>NaN</td>\n      <td>0.78352</td>\n      <td>NaN</td>\n      <td>NaN</td>\n      <td>NaN</td>\n      <td>NaN</td>\n      <td>NaN</td>\n    </tr>\n    <tr>\n      <th>6</th>\n      <td>(Normal_Revenue_binned: Zero, Normal_Price_bin...</td>\n      <td>(Content Rating: Everyone, Type: 0)</td>\n      <td>NaN</td>\n      <td>NaN</td>\n      <td>0.78352</td>\n      <td>NaN</td>\n      <td>NaN</td>\n      <td>NaN</td>\n      <td>NaN</td>\n      <td>NaN</td>\n    </tr>\n    <tr>\n      <th>7</th>\n      <td>(Content Rating: Everyone, Type: 0)</td>\n      <td>(Normal_Revenue_binned: Zero, Normal_Price_bin...</td>\n      <td>NaN</td>\n      <td>NaN</td>\n      <td>0.78352</td>\n      <td>NaN</td>\n      <td>NaN</td>\n      <td>NaN</td>\n      <td>NaN</td>\n      <td>NaN</td>\n    </tr>\n    <tr>\n      <th>8</th>\n      <td>(Content Rating: Everyone, Normal_Price_binned...</td>\n      <td>(Normal_Revenue_binned: Zero, Type: 0)</td>\n      <td>NaN</td>\n      <td>NaN</td>\n      <td>0.78352</td>\n      <td>NaN</td>\n      <td>NaN</td>\n      <td>NaN</td>\n      <td>NaN</td>\n      <td>NaN</td>\n    </tr>\n    <tr>\n      <th>9</th>\n      <td>(Type: 0, Normal_Price_binned: Zero)</td>\n      <td>(Normal_Revenue_binned: Zero, Content Rating: ...</td>\n      <td>NaN</td>\n      <td>NaN</td>\n      <td>0.78352</td>\n      <td>NaN</td>\n      <td>NaN</td>\n      <td>NaN</td>\n      <td>NaN</td>\n      <td>NaN</td>\n    </tr>\n    <tr>\n      <th>10</th>\n      <td>(Normal_Revenue_binned: Zero)</td>\n      <td>(Content Rating: Everyone, Type: 0, Normal_Pri...</td>\n      <td>NaN</td>\n      <td>NaN</td>\n      <td>0.78352</td>\n      <td>NaN</td>\n      <td>NaN</td>\n      <td>NaN</td>\n      <td>NaN</td>\n      <td>NaN</td>\n    </tr>\n    <tr>\n      <th>11</th>\n      <td>(Content Rating: Everyone)</td>\n      <td>(Normal_Revenue_binned: Zero, Type: 0, Normal_...</td>\n      <td>NaN</td>\n      <td>NaN</td>\n      <td>0.78352</td>\n      <td>NaN</td>\n      <td>NaN</td>\n      <td>NaN</td>\n      <td>NaN</td>\n      <td>NaN</td>\n    </tr>\n    <tr>\n      <th>12</th>\n      <td>(Type: 0)</td>\n      <td>(Normal_Revenue_binned: Zero, Content Rating: ...</td>\n      <td>NaN</td>\n      <td>NaN</td>\n      <td>0.78352</td>\n      <td>NaN</td>\n      <td>NaN</td>\n      <td>NaN</td>\n      <td>NaN</td>\n      <td>NaN</td>\n    </tr>\n    <tr>\n      <th>13</th>\n      <td>(Normal_Price_binned: Zero)</td>\n      <td>(Normal_Revenue_binned: Zero, Content Rating: ...</td>\n      <td>NaN</td>\n      <td>NaN</td>\n      <td>0.78352</td>\n      <td>NaN</td>\n      <td>NaN</td>\n      <td>NaN</td>\n      <td>NaN</td>\n      <td>NaN</td>\n    </tr>\n  </tbody>\n</table>\n</div>"
     },
     "execution_count": 219,
     "metadata": {},
     "output_type": "execute_result"
    }
   ],
   "source": [
    "rules = association_rules(maximal_itemsets, metric=\"confidence\", min_threshold=0.7, support_only=True)\n",
    "rules"
   ],
   "metadata": {
    "collapsed": false
   }
  }
 ],
 "metadata": {
  "kernelspec": {
   "display_name": "Python 3",
   "language": "python",
   "name": "python3"
  },
  "language_info": {
   "codemirror_mode": {
    "name": "ipython",
    "version": 2
   },
   "file_extension": ".py",
   "mimetype": "text/x-python",
   "name": "python",
   "nbconvert_exporter": "python",
   "pygments_lexer": "ipython2",
   "version": "2.7.6"
  }
 },
 "nbformat": 4,
 "nbformat_minor": 0
}
